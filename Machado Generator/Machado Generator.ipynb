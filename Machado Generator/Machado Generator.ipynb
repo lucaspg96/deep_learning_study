{
 "cells": [
  {
   "cell_type": "code",
   "execution_count": 20,
   "metadata": {
    "collapsed": false
   },
   "outputs": [],
   "source": [
    "from src import MachadoLoader as ml\n",
    "import tensorflow as tf\n",
    "\n",
    "import numpy as np"
   ]
  },
  {
   "cell_type": "code",
   "execution_count": null,
   "metadata": {
    "collapsed": true
   },
   "outputs": [],
   "source": [
    "data = ml.readData()"
   ]
  },
  {
   "cell_type": "code",
   "execution_count": 18,
   "metadata": {
    "collapsed": false
   },
   "outputs": [],
   "source": [
    "mapedData = ml.mapData(data)\n",
    "trainData,testData = ml.separateData(mapedData)"
   ]
  },
  {
   "cell_type": "code",
   "execution_count": null,
   "metadata": {
    "collapsed": false
   },
   "outputs": [],
   "source": [
    "trainData = [{'x':text[0:-1],'y':text[1:len(text)]} for text in trainData]\n",
    "testData = [{'x':text[0:-1],'y':text[1:len(text)]} for text in testData]"
   ]
  },
  {
   "cell_type": "code",
   "execution_count": null,
   "metadata": {
    "collapsed": false
   },
   "outputs": [],
   "source": [
    "tf.flags.DEFINE_string(\"savePath\",\"/tmp/\",\"path to model\")"
   ]
  },
  {
   "cell_type": "code",
   "execution_count": null,
   "metadata": {
    "collapsed": true
   },
   "outputs": [],
   "source": [
    "FLAGS = tf.flags.FLAGS"
   ]
  },
  {
   "cell_type": "code",
   "execution_count": 22,
   "metadata": {
    "collapsed": true
   },
   "outputs": [],
   "source": [
    "def dataType():\n",
    "    return tf.float32\n",
    "\n",
    "def create_input_fn(Data,batchSize=20):\n",
    "    data = Data\n",
    "\n",
    "    def input_fn():\n",
    "        np.random.shuffle(data)\n",
    "        batch = 0\n",
    "        batches = []\n",
    "        for _ in range(int(len(data)/batchSize)):\n",
    "            x = [d['x'] for d in data[batch,batch+batchSize]]\n",
    "            y = [d['y'] for d in data[batch,batch+batchSize]]\n",
    "            batch = batch+batchSize\n",
    "            batches.append((x,y))\n",
    "        \n",
    "        batches = tf.constant(batches)\n",
    "        return batches\n",
    "    \n",
    "    return input_fn"
   ]
  },
  {
   "cell_type": "code",
   "execution_count": null,
   "metadata": {
    "collapsed": true
   },
   "outputs": [],
   "source": []
  }
 ],
 "metadata": {
  "kernelspec": {
   "display_name": "Python 3",
   "language": "python",
   "name": "python3"
  },
  "language_info": {
   "codemirror_mode": {
    "name": "ipython",
    "version": 3
   },
   "file_extension": ".py",
   "mimetype": "text/x-python",
   "name": "python",
   "nbconvert_exporter": "python",
   "pygments_lexer": "ipython3",
   "version": "3.5.2"
  }
 },
 "nbformat": 4,
 "nbformat_minor": 2
}
