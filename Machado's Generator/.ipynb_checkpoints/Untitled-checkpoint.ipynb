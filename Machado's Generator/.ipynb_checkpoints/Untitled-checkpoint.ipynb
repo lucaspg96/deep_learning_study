{
 "cells": [
  {
   "cell_type": "code",
   "execution_count": 1,
   "metadata": {
    "collapsed": false
   },
   "outputs": [],
   "source": [
    "#Setup-----------------------\n",
    "# import nltk\n",
    "# nltk.download('machado')"
   ]
  },
  {
   "cell_type": "code",
   "execution_count": 2,
   "metadata": {
    "collapsed": false
   },
   "outputs": [
    {
     "data": {
      "text/plain": [
       "246"
      ]
     },
     "execution_count": 2,
     "metadata": {},
     "output_type": "execute_result"
    }
   ],
   "source": [
    "from nltk.corpus import machado\n",
    "len(machado.fileids())"
   ]
  },
  {
   "cell_type": "code",
   "execution_count": 3,
   "metadata": {
    "collapsed": true
   },
   "outputs": [],
   "source": [
    "def readCronicle(file):\n",
    "    #Quando for crônica\n",
    "    book = machado.words(file)\n",
    "    index = [i+1 for i,x in enumerate(book[0:100]) if x=='']\n",
    "    if len(index)>=5:\n",
    "        book = book[index[4]:len(book)]\n",
    "    #print(' '.join(book))\n",
    "    return book\n",
    "\n",
    "def readTale(file):\n",
    "    #Quando for conto\n",
    "    book = machado.words(file)\n",
    "    index = []\n",
    "\n",
    "    for i in range(1,len(book)):\n",
    "        c = ' '.join([book[i-1].lower(),book[i].lower()])\n",
    "\n",
    "        if c == 'capítulo primeiro':\n",
    "            index.append(i)\n",
    "    if len(index)>=2:\n",
    "        book = book[index[1]+1:len(book)]\n",
    "\n",
    "    #print(' '.join(book))\n",
    "    return book\n",
    "\n",
    "def readPoem(file):\n",
    "    #Quando for poesia\n",
    "    book = machado.words('poesia/maps04.txt')\n",
    "    try:\n",
    "        index = book.index(\"ÍNDICE\")\n",
    "        book = book[index+1:len(book)]\n",
    "\n",
    "    except Exception as e:\n",
    "        book = book[66:len(book)]\n",
    "\n",
    "    #print(' '.join(book))\n",
    "    return book\n",
    "\n",
    "def readDefault(file):\n",
    "    #Quando for crítica, miscelanea, romance, teatro\n",
    "    book = machado.words('teatro/matt08.txt')\n",
    "    try:\n",
    "        pubIndex = book.index(\"Publicado\")\n",
    "    except Exception as e:\n",
    "        pubIndex = book.index(\"Publicada\")\n",
    "\n",
    "    dotIndex = book[pubIndex:len(book)].index('.')+pubIndex+1\n",
    "    book = book[dotIndex:len(book)]\n",
    "    #print(' '.join(book))\n",
    "    return book"
   ]
  },
  {
   "cell_type": "code",
   "execution_count": 4,
   "metadata": {
    "collapsed": true
   },
   "outputs": [],
   "source": [
    "readers = {\n",
    "    'cronica': readCronicle,\n",
    "    'contos': readTale,\n",
    "    'poesia': readPoem\n",
    "}\n",
    "\n",
    "def readData():\n",
    "    data = []\n",
    "    \n",
    "    for file in machado.fileids():\n",
    "        type = file.split('/')[0]\n",
    "        if type!=('traducao'):\n",
    "            reader = readers.get(type,readDefault)\n",
    "            #print('Reading:',file)\n",
    "            data.append(reader(file))\n",
    "    \n",
    "    return data"
   ]
  },
  {
   "cell_type": "code",
   "execution_count": 5,
   "metadata": {
    "collapsed": false
   },
   "outputs": [],
   "source": [
    "data = readData()"
   ]
  },
  {
   "cell_type": "code",
   "execution_count": 45,
   "metadata": {
    "collapsed": false
   },
   "outputs": [],
   "source": [
    "chars = {}\n",
    "ids = {}\n",
    "def mapData(data):\n",
    "    global ids\n",
    "    global chars\n",
    "    i=1\n",
    "    chars[\" \"]=0\n",
    "    ids['0'] = \" \"\n",
    "    newData = []\n",
    "    for text in data:\n",
    "        newText = []\n",
    "        for word in text:\n",
    "            for c in word:\n",
    "                if not c in chars:\n",
    "                    #print(\"Char:\",c,\"id:\",i)\n",
    "                    chars[c] = str(i) #keep the id of a char\n",
    "                    ids[str(i)] = c #keep the char of an id\n",
    "                    #print(\"Id:\",i,\"char:\",ids[str(i)])\n",
    "                    i+=1\n",
    "                newText+=str(chars[c])\n",
    "            \n",
    "            #inserting blank space\n",
    "            newText.append(\"0\")\n",
    "        \n",
    "        newData.append(newText)\n",
    "    \n",
    "    return newData\n",
    "\n",
    "def translateText(text):\n",
    "    return ''.join([ids[i] for i in text if i!='.'])"
   ]
  },
  {
   "cell_type": "code",
   "execution_count": 46,
   "metadata": {
    "collapsed": false
   },
   "outputs": [
    {
     "ename": "AttributeError",
     "evalue": "'str' object has no attribute 'append'",
     "output_type": "error",
     "traceback": [
      "\u001b[0;31m---------------------------------------------------------------------------\u001b[0m",
      "\u001b[0;31mAttributeError\u001b[0m                            Traceback (most recent call last)",
      "\u001b[0;32m<ipython-input-46-ae55b666de8a>\u001b[0m in \u001b[0;36m<module>\u001b[0;34m()\u001b[0m\n\u001b[1;32m      1\u001b[0m \u001b[0;31m#print(' '.join(data[0][0:400]),\"\\n-------------------------------\\n\")\u001b[0m\u001b[0;34m\u001b[0m\u001b[0;34m\u001b[0m\u001b[0m\n\u001b[0;32m----> 2\u001b[0;31m \u001b[0mmapData\u001b[0m\u001b[0;34m(\u001b[0m\u001b[0mdata\u001b[0m\u001b[0;34m[\u001b[0m\u001b[0;36m0\u001b[0m\u001b[0;34m:\u001b[0m\u001b[0;36m2\u001b[0m\u001b[0;34m]\u001b[0m\u001b[0;34m)\u001b[0m\u001b[0;34m\u001b[0m\u001b[0m\n\u001b[0m\u001b[1;32m      3\u001b[0m \u001b[0mtranslateText\u001b[0m\u001b[0;34m(\u001b[0m\u001b[0mmapData\u001b[0m\u001b[0;34m(\u001b[0m\u001b[0mdata\u001b[0m\u001b[0;34m[\u001b[0m\u001b[0;36m0\u001b[0m\u001b[0;34m:\u001b[0m\u001b[0;36m2\u001b[0m\u001b[0;34m]\u001b[0m\u001b[0;34m)\u001b[0m\u001b[0;34m[\u001b[0m\u001b[0;36m0\u001b[0m\u001b[0;34m]\u001b[0m\u001b[0;34m)\u001b[0m\u001b[0;34m\u001b[0m\u001b[0m\n",
      "\u001b[0;32m<ipython-input-45-4d1747fc971f>\u001b[0m in \u001b[0;36mmapData\u001b[0;34m(data)\u001b[0m\n\u001b[1;32m     21\u001b[0m \u001b[0;34m\u001b[0m\u001b[0m\n\u001b[1;32m     22\u001b[0m             \u001b[0;31m#inserting blank space\u001b[0m\u001b[0;34m\u001b[0m\u001b[0;34m\u001b[0m\u001b[0m\n\u001b[0;32m---> 23\u001b[0;31m             \u001b[0mnewText\u001b[0m\u001b[0;34m.\u001b[0m\u001b[0mappend\u001b[0m\u001b[0;34m(\u001b[0m\u001b[0;34m\"0\"\u001b[0m\u001b[0;34m)\u001b[0m\u001b[0;34m\u001b[0m\u001b[0m\n\u001b[0m\u001b[1;32m     24\u001b[0m \u001b[0;34m\u001b[0m\u001b[0m\n\u001b[1;32m     25\u001b[0m         \u001b[0mnewData\u001b[0m\u001b[0;34m.\u001b[0m\u001b[0mappend\u001b[0m\u001b[0;34m(\u001b[0m\u001b[0mnewText\u001b[0m\u001b[0;34m)\u001b[0m\u001b[0;34m\u001b[0m\u001b[0m\n",
      "\u001b[0;31mAttributeError\u001b[0m: 'str' object has no attribute 'append'"
     ]
    }
   ],
   "source": [
    "#print(' '.join(data[0][0:400]),\"\\n-------------------------------\\n\")\n",
    "mapData(data[0:2])\n",
    "translateText(mapData(data[0:2])[0])"
   ]
  },
  {
   "cell_type": "code",
   "execution_count": null,
   "metadata": {
    "collapsed": true
   },
   "outputs": [],
   "source": []
  }
 ],
 "metadata": {
  "kernelspec": {
   "display_name": "Python 3",
   "language": "python",
   "name": "python3"
  },
  "language_info": {
   "codemirror_mode": {
    "name": "ipython",
    "version": 3
   },
   "file_extension": ".py",
   "mimetype": "text/x-python",
   "name": "python",
   "nbconvert_exporter": "python",
   "pygments_lexer": "ipython3",
   "version": "3.5.2"
  }
 },
 "nbformat": 4,
 "nbformat_minor": 2
}
