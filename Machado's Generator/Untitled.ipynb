{
 "cells": [
  {
   "cell_type": "code",
   "execution_count": null,
   "metadata": {
    "collapsed": false
   },
   "outputs": [],
   "source": [
    "#Setup-----------------------\n",
    "# import nltk\n",
    "# nltk.download()\n",
    "# nltk.download('machado')"
   ]
  },
  {
   "cell_type": "code",
   "execution_count": null,
   "metadata": {
    "collapsed": false
   },
   "outputs": [],
   "source": [
    "from nltk.corpus import machado\n",
    "len(machado.fileids())"
   ]
  },
  {
   "cell_type": "code",
   "execution_count": null,
   "metadata": {
    "collapsed": true
   },
   "outputs": [],
   "source": [
    "def readCronicle(file):\n",
    "    #Quando for crônica\n",
    "    book = machado.words(file)\n",
    "    index = [i+1 for i,x in enumerate(book[0:100]) if x=='']\n",
    "    if len(index)>=5:\n",
    "        book = book[index[4]:len(book)]\n",
    "    #print(' '.join(book))\n",
    "    return book\n",
    "\n",
    "def readTale(file):\n",
    "    #Quando for conto\n",
    "    book = machado.words(file)\n",
    "    index = []\n",
    "\n",
    "    for i in range(1,len(book)):\n",
    "        c = ' '.join([book[i-1].lower(),book[i].lower()])\n",
    "\n",
    "        if c == 'capítulo primeiro':\n",
    "            index.append(i)\n",
    "    if len(index)>=2:\n",
    "        book = book[index[1]+1:len(book)]\n",
    "\n",
    "    #print(' '.join(book))\n",
    "    return book\n",
    "\n",
    "def readPoem(file):\n",
    "    #Quando for poesia\n",
    "    book = machado.words('poesia/maps04.txt')\n",
    "    try:\n",
    "        index = book.index(\"ÍNDICE\")\n",
    "        book = book[index+1:len(book)]\n",
    "\n",
    "    except Exception as e:\n",
    "        book = book[66:len(book)]\n",
    "\n",
    "    #print(' '.join(book))\n",
    "    return book\n",
    "\n",
    "def readDefault(file):\n",
    "    #Quando for crítica, miscelanea, romance, teatro\n",
    "    book = machado.words('teatro/matt08.txt')\n",
    "    try:\n",
    "        pubIndex = book.index(\"Publicado\")\n",
    "    except Exception as e:\n",
    "        pubIndex = book.index(\"Publicada\")\n",
    "\n",
    "    dotIndex = book[pubIndex:len(book)].index('.')+pubIndex+1\n",
    "    book = book[dotIndex:len(book)]\n",
    "    #print(' '.join(book))\n",
    "    return book"
   ]
  },
  {
   "cell_type": "code",
   "execution_count": null,
   "metadata": {
    "collapsed": true
   },
   "outputs": [],
   "source": [
    "readers = {\n",
    "    'cronica': readCronicle,\n",
    "    'contos': readTale,\n",
    "    'poesia': readPoem\n",
    "}\n",
    "\n",
    "def readData():\n",
    "    data = []\n",
    "    \n",
    "    for file in machado.fileids():\n",
    "        type = file.split('/')[0]\n",
    "        if type!=('traducao'):\n",
    "            reader = readers.get(type,readDefault)\n",
    "            #print('Reading:',file)\n",
    "            data.append(reader(file))\n",
    "    \n",
    "    return data"
   ]
  },
  {
   "cell_type": "code",
   "execution_count": null,
   "metadata": {
    "collapsed": false
   },
   "outputs": [],
   "source": [
    "data = readData()"
   ]
  },
  {
   "cell_type": "code",
   "execution_count": null,
   "metadata": {
    "collapsed": false
   },
   "outputs": [],
   "source": [
    "data[0]"
   ]
  },
  {
   "cell_type": "code",
   "execution_count": null,
   "metadata": {
    "collapsed": true
   },
   "outputs": [],
   "source": []
  }
 ],
 "metadata": {
  "kernelspec": {
   "display_name": "Python 3",
   "language": "python",
   "name": "python3"
  },
  "language_info": {
   "codemirror_mode": {
    "name": "ipython",
    "version": 3
   },
   "file_extension": ".py",
   "mimetype": "text/x-python",
   "name": "python",
   "nbconvert_exporter": "python",
   "pygments_lexer": "ipython3",
   "version": "3.5.2"
  }
 },
 "nbformat": 4,
 "nbformat_minor": 2
}
