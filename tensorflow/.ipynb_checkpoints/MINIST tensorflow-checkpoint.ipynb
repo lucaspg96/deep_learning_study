{
 "cells": [
  {
   "cell_type": "code",
   "execution_count": null,
   "metadata": {
    "collapsed": false
   },
   "outputs": [],
   "source": [
    "import tensorflow as tf\n",
    "from tensorflow.examples.tutorials.mnist import input_data"
   ]
  },
  {
   "cell_type": "code",
   "execution_count": null,
   "metadata": {
    "collapsed": false,
    "scrolled": true
   },
   "outputs": [],
   "source": [
    "#Loading Dataset\n",
    "mnist = input_data.read_data_sets(\"/tmp/data/\", one_hot=True)"
   ]
  },
  {
   "cell_type": "code",
   "execution_count": null,
   "metadata": {
    "collapsed": false
   },
   "outputs": [],
   "source": [
    "#Setup\n",
    "x = tf.placeholder('float',[None,784])\n",
    "y = tf.placeholder('float')"
   ]
  },
  {
   "cell_type": "code",
   "execution_count": null,
   "metadata": {
    "collapsed": false
   },
   "outputs": [],
   "source": [
    "class NeuralNetwork:\n",
    "    def __init__(self,sizes):\n",
    "        self.layers = []\n",
    "        \n",
    "        self.sess = tf.Session()\n",
    "        \n",
    "        for i in range(1,len(sizes)):\n",
    "            self.layers.append(\n",
    "               {'weights':tf.Variable(tf.random_normal([sizes[i-1], sizes[i]])),\n",
    "                         'biases':tf.Variable(tf.random_normal([sizes[i]]))} \n",
    "            )\n",
    "    \n",
    "    def model(self,data):        \n",
    "        l = tf.add(tf.matmul(data,self.layers[0]['weights']), self.layers[0]['biases'])\n",
    "        l = tf.nn.relu(l)\n",
    "        \n",
    "        for i in range(1,len(self.layers)-1):\n",
    "            l = tf.add(tf.matmul(l,self.layers[i]['weights']), self.layers[i]['biases'])\n",
    "            l = tf.nn.relu(l)\n",
    "    \n",
    "        l = tf.matmul(l,self.layers[-1]['weights']) + self.layers[-1]['biases']\n",
    "        \n",
    "        return l\n",
    "    \n",
    "    def train(self,x,hm_epochs=10,batch_size=100):\n",
    "        prediction = self.model(x)\n",
    "        cost = tf.reduce_mean(tf.nn.softmax_cross_entropy_with_logits(prediction,y))\n",
    "\n",
    "        optimizer = tf.train.AdamOptimizer(learning_rate=0.001).minimize(cost)\n",
    "\n",
    "        self.sess.run(tf.global_variables_initializer())\n",
    "\n",
    "        for epoch in range(hm_epochs):\n",
    "            epoch_loss = 0\n",
    "\n",
    "            for _ in range(int(mnist.train.num_examples/batch_size)):\n",
    "                epoch_x,epoch_y = mnist.train.next_batch(batch_size)\n",
    "                _, c = self.sess.run([optimizer, cost], feed_dict = {x: epoch_x, y: epoch_y})\n",
    "                epoch_loss += c\n",
    "\n",
    "            print('Epoch',epoch+1, 'completed out of',hm_epochs,'loss:', epoch_loss)\n",
    "\n",
    "        self.prediction = prediction\n",
    "        \n",
    "            \n",
    "    def score (self,features,labels):\n",
    "        correct = tf.equal(tf.argmax(self.prediction,1),tf.argmax(y,1))\n",
    "        accuracy = tf.reduce_mean(tf.cast(correct,'float'))\n",
    "        print('Accuracy: ',accuracy.eval({x:features, y:labels},self.sess))"
   ]
  },
  {
   "cell_type": "code",
   "execution_count": null,
   "metadata": {
    "collapsed": false
   },
   "outputs": [],
   "source": [
    "layers = [784,100,10]\n",
    "nn = NeuralNetwork(layers)\n",
    "nn.train(x)\n",
    "nn.score(mnist.test.images, mnist.test.labels)"
   ]
  }
 ],
 "metadata": {
  "anaconda-cloud": {},
  "kernelspec": {
   "display_name": "Python 3",
   "language": "python",
   "name": "python3"
  },
  "language_info": {
   "codemirror_mode": {
    "name": "ipython",
    "version": 3
   },
   "file_extension": ".py",
   "mimetype": "text/x-python",
   "name": "python",
   "nbconvert_exporter": "python",
   "pygments_lexer": "ipython3",
   "version": "3.5.2"
  }
 },
 "nbformat": 4,
 "nbformat_minor": 2
}
