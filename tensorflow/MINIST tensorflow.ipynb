{
 "cells": [
  {
   "cell_type": "code",
   "execution_count": 1,
   "metadata": {
    "collapsed": true
   },
   "outputs": [],
   "source": [
    "import tensorflow as tf\n",
    "from tensorflow.examples.tutorials.mnist import input_data"
   ]
  },
  {
   "cell_type": "code",
   "execution_count": 2,
   "metadata": {
    "collapsed": false,
    "scrolled": true
   },
   "outputs": [
    {
     "name": "stdout",
     "output_type": "stream",
     "text": [
      "Extracting /tmp/data/train-images-idx3-ubyte.gz\n",
      "Extracting /tmp/data/train-labels-idx1-ubyte.gz\n",
      "Extracting /tmp/data/t10k-images-idx3-ubyte.gz\n",
      "Extracting /tmp/data/t10k-labels-idx1-ubyte.gz\n"
     ]
    }
   ],
   "source": [
    "#Loading Dataset\n",
    "mnist = input_data.read_data_sets(\"/tmp/data/\", one_hot=True)"
   ]
  },
  {
   "cell_type": "code",
   "execution_count": 64,
   "metadata": {
    "collapsed": false
   },
   "outputs": [],
   "source": [
    "#Setup\n",
    "n_nodes_hl1 = 7\n",
    "n_nodes_hl2 = 30\n",
    "n_nodes_hl3 = 30\n",
    "\n",
    "n_classes = 10\n",
    "\n",
    "batch_size = 100\n",
    "\n",
    "x = tf.placeholder('float',[None,784])\n",
    "y = tf.placeholder('float')\n",
    "\n",
    "def neural_network_model(data):\n",
    "    hidden_1_layer = {'weights':tf.Variable(tf.random_normal([784, n_nodes_hl1])),\n",
    "                     'biases':tf.Variable(tf.random_normal([n_nodes_hl1]))}\n",
    "    \n",
    "    hidden_2_layer = {'weights':tf.Variable(tf.random_normal([n_nodes_hl1, n_nodes_hl2])),\n",
    "                     'biases':tf.Variable(tf.random_normal([n_nodes_hl2]))}\n",
    "    \n",
    "    hidden_3_layer = {'weights':tf.Variable(tf.random_normal([n_nodes_hl2, n_nodes_hl3])),\n",
    "                     'biases':tf.Variable(tf.random_normal([n_nodes_hl3]))}\n",
    "    \n",
    "    output_layer = {'weights':tf.Variable(tf.random_normal([n_nodes_hl3, n_classes])),\n",
    "                     'biases':tf.Variable(tf.random_normal([n_classes]))}\n",
    "    \n",
    "    \n",
    "    l1 = tf.add(tf.matmul(data,hidden_1_layer['weights']), hidden_1_layer['biases'])\n",
    "    l1 = tf.nn.relu(l1)\n",
    "    \n",
    "    l2 = tf.add(tf.matmul(l1,hidden_2_layer['weights']), hidden_2_layer['biases'])\n",
    "    l2 = tf.nn.relu(l2)\n",
    "    \n",
    "    l3 = tf.add(tf.matmul(l2,hidden_3_layer['weights']), hidden_3_layer['biases'])\n",
    "    l3 = tf.nn.relu(l3)\n",
    "    \n",
    "    output = tf.add(tf.matmul(l3,output_layer['weights']), output_layer['biases'])\n",
    "    output = tf.nn.relu(output)\n",
    "    \n",
    "    return output"
   ]
  },
  {
   "cell_type": "code",
   "execution_count": 65,
   "metadata": {
    "collapsed": true
   },
   "outputs": [],
   "source": [
    "class NeuralNetwork:\n",
    "    def __init__(self,sizes):\n",
    "        self.layers = []\n",
    "        \n",
    "        \n",
    "        for i in range(1,len(sizes)):\n",
    "            self.layers.append(\n",
    "               {'weights':tf.Variable(tf.random_normal([sizes[i-1], sizes[i]])),\n",
    "                         'biases':tf.Variable(tf.random_normal([sizes[i]]))} \n",
    "            )\n",
    "    \n",
    "    def model(self,data):\n",
    "        l = tf.add(tf.matmul(data,self.layers[0]['weights']), self.layers[0]['biases'])\n",
    "        l = tf.nn.relu(l)\n",
    "        for i in range(1,len(self.layers)):\n",
    "            l = tf.add(tf.matmul(l,self.layers[i]['weights']), self.layers[i]['biases'])\n",
    "            l = tf.nn.relu(l)\n",
    "        return l\n",
    "    \n",
    "    def train(self,x,hm_epochs=10):\n",
    "        prediction = self.model(x)\n",
    "        cost = tf.reduce_mean(tf.nn.softmax_cross_entropy_with_logits(prediction,y))\n",
    "\n",
    "        #learning rate = 0.001\n",
    "        optimizer = tf.train.AdamOptimizer(learning_rate=0.001).minimize(cost)\n",
    "\n",
    "        with tf.Session() as sess:\n",
    "            sess.run(tf.global_variables_initializer())\n",
    "\n",
    "            for epoch in range(hm_epochs):\n",
    "                epoch_loss = 0\n",
    "\n",
    "                for _ in range(int(mnist.train.num_examples/batch_size)):\n",
    "                    epoch_x,epoch_y = mnist.train.next_batch(batch_size)\n",
    "                    _, c = sess.run([optimizer, cost], feed_dict = {x: epoch_x, y: epoch_y})\n",
    "                    epoch_loss += c\n",
    "\n",
    "                print('Epoch',epoch+1, 'completed out of',hm_epochs,'loss:', epoch_loss)\n",
    "                \n",
    "            self.prediction = prediction\n",
    "\n",
    "                \n",
    "            \n",
    "    def score (self,features,labels):\n",
    "        with tf.Session() as sess:\n",
    "            sess.run(tf.global_variables_initializer())\n",
    "            correct = tf.equal(tf.argmax(self.prediction,1),tf.argmax(y,1))\n",
    "            accuracy = tf.reduce_mean(tf.cast(correct,'float'))\n",
    "            print('Accuracy: ',accuracy.eval({x:features, y:labels}))"
   ]
  },
  {
   "cell_type": "code",
   "execution_count": 66,
   "metadata": {
    "collapsed": false
   },
   "outputs": [],
   "source": [
    "def train_neural_network(x):\n",
    "    prediction = neural_network_model(x)\n",
    "    cost = tf.reduce_mean(tf.nn.softmax_cross_entropy_with_logits(prediction,y))\n",
    "    \n",
    "    #learning rate = 0.001\n",
    "    optimizer = tf.train.AdamOptimizer().minimize(cost)\n",
    "    \n",
    "    hm_epochs = 10\n",
    "    \n",
    "    with tf.Session() as sess:\n",
    "        sess.run(tf.global_variables_initializer())\n",
    "        \n",
    "        for epoch in range(hm_epochs):\n",
    "            epoch_loss = 0\n",
    "            \n",
    "            for _ in range(int(mnist.train.num_examples/batch_size)):\n",
    "                epoch_x,epoch_y = mnist.train.next_batch(batch_size)\n",
    "                _, c = sess.run([optimizer, cost], feed_dict = {x: epoch_x, y: epoch_y})\n",
    "                epoch_loss += c\n",
    "            \n",
    "            print('Epoch',epoch+1, 'completed out of',hm_epochs,' loss:', epoch_loss)\n",
    "        \n",
    "        \n",
    "        correct = tf.equal(tf.argmax(prediction,1),tf.argmax(y,1))\n",
    "        accuracy = tf.reduce_mean(tf.cast(correct,'float'))\n",
    "        print('Accuracy: ',accuracy.eval({x:mnist.test.images, y:mnist.test.labels}))"
   ]
  },
  {
   "cell_type": "code",
   "execution_count": 67,
   "metadata": {
    "collapsed": false
   },
   "outputs": [
    {
     "name": "stdout",
     "output_type": "stream",
     "text": [
      "Epoch 1 completed out of 30 loss: 12.5998153687\n",
      "Epoch 2 completed out of 30 loss: 11.259926796\n",
      "Epoch 3 completed out of 30 loss: 9.11562919617\n",
      "Epoch 4 completed out of 30 loss: 10.5394124985\n",
      "Epoch 5 completed out of 30 loss: 10.5108060837\n",
      "Epoch 6 completed out of 30 loss: 10.2783241272\n",
      "Epoch 7 completed out of 30 loss: 10.8187179565\n",
      "Epoch 8 completed out of 30 loss: 9.36462211609\n",
      "Epoch 9 completed out of 30 loss: 9.39374542236\n",
      "Epoch 10 completed out of 30 loss: 10.3444852829\n",
      "Epoch 11 completed out of 30 loss: 8.99594593048\n",
      "Epoch 12 completed out of 30 loss: 8.44401264191\n",
      "Epoch 13 completed out of 30 loss: 9.77537918091\n",
      "Epoch 14 completed out of 30 loss: 9.19965457916\n",
      "Epoch 15 completed out of 30 loss: 10.1312332153\n",
      "Epoch 16 completed out of 30 loss: 10.3272237778\n",
      "Epoch 17 completed out of 30 loss: 8.72772598267\n",
      "Epoch 18 completed out of 30 loss: 8.45911407471\n",
      "Epoch 19 completed out of 30 loss: 9.07177639008\n",
      "Epoch 20 completed out of 30 loss: 8.45788002014\n",
      "Epoch 21 completed out of 30 loss: 8.13859653473\n",
      "Epoch 22 completed out of 30 loss: 9.35634803772\n",
      "Epoch 23 completed out of 30 loss: 7.4987206459\n",
      "Epoch 24 completed out of 30 loss: 9.06980133057\n",
      "Epoch 25 completed out of 30 loss: 8.35706424713\n",
      "Epoch 26 completed out of 30 loss: 7.074467659\n",
      "Epoch 27 completed out of 30 loss: 7.55627727509\n",
      "Epoch 28 completed out of 30 loss: 8.65156555176\n",
      "Epoch 29 completed out of 30 loss: 7.67229509354\n",
      "Epoch 30 completed out of 30 loss: 9.12516498566\n",
      "Accuracy:  0.0806\n"
     ]
    }
   ],
   "source": [
    "#train_neural_network(x)\n",
    "nn = NeuralNetwork([784,7,10])\n",
    "nn.train(x,30)\n",
    "nn.score(mnist.test.images, mnist.test.labels)"
   ]
  },
  {
   "cell_type": "code",
   "execution_count": null,
   "metadata": {
    "collapsed": true
   },
   "outputs": [],
   "source": []
  }
 ],
 "metadata": {
  "kernelspec": {
   "display_name": "Python 3",
   "language": "python",
   "name": "python3"
  },
  "language_info": {
   "codemirror_mode": {
    "name": "ipython",
    "version": 3
   },
   "file_extension": ".py",
   "mimetype": "text/x-python",
   "name": "python",
   "nbconvert_exporter": "python",
   "pygments_lexer": "ipython3",
   "version": "3.5.1+"
  }
 },
 "nbformat": 4,
 "nbformat_minor": 2
}
